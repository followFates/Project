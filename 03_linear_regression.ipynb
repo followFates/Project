{
 "cells": [
  {
   "cell_type": "markdown",
   "id": "82f3d767",
   "metadata": {},
   "source": [
    "# 监督学习"
   ]
  },
  {
   "cell_type": "markdown",
   "id": "93cd1dfe",
   "metadata": {},
   "source": [
    "### 线性回归 Linear Regression\n",
    "### 逻辑回归 Logistic Regression\n",
    "### Softmax, Cross-Entropy\n",
    "### 正则化 Regularization\n",
    "### 交叉验证 Cross-Validation"
   ]
  },
  {
   "cell_type": "markdown",
   "id": "74f63e19",
   "metadata": {},
   "source": [
    "### 线性回归\n",
    "#### 预测出 y 是一个实数 ————> 回归 ————> 预测\n",
    "#### 预测出 y 是一个向量 ————> 概率 ————> 分类"
   ]
  },
  {
   "cell_type": "markdown",
   "id": "6f9bdb95",
   "metadata": {},
   "source": [
    "平方误差损失函数 L2-distance: $$loss(\\theta) = \\frac{1}{2}\\sum_{}(f_\\theta(x^i) - y^i)^2 = \\frac{1}{2}\\sum_{}(\\theta^T - y^i)^2$$"
   ]
  },
  {
   "cell_type": "markdown",
   "id": "6fe78aa8",
   "metadata": {},
   "source": [
    "绝对值损失函数 L1-distance:$$loss(\\theta) = \\frac{1}{2}\\sum_{}|f_\\theta(x^i) - y^i| = \\frac{1}{2}\\sum_{}|\\theta^T - y^i|$$"
   ]
  },
  {
   "cell_type": "markdown",
   "id": "e20bb597",
   "metadata": {},
   "source": [
    "i=1,$\\theta$表示参数的集合："
   ]
  },
  {
   "cell_type": "markdown",
   "id": "5ae8bbc8",
   "metadata": {},
   "source": [
    "$$f_\\theta(x^i) = w_1x_1 + w_2x_2 + ... + w_nx_n$$"
   ]
  },
  {
   "cell_type": "markdown",
   "id": "e631c427",
   "metadata": {},
   "source": [
    "$$loss(\\theta) = \\frac{1}{2}\\sum_{}(w_1x_1 + w_2x_2 + ... + w_nx_n + b - y_i)$$"
   ]
  },
  {
   "cell_type": "markdown",
   "id": "d1612642",
   "metadata": {},
   "source": [
    "如果期望函数比较稳定，那么就用均方误差损失函数；\n",
    "\n",
    "如果期望函数总体的误差比较小的话，那其实用绝对值损失函数也可以。\n",
    "\n",
    "奥卡姆剃刀原理：除非有必要，否则不要增加复杂度。"
   ]
  },
  {
   "cell_type": "markdown",
   "id": "b621fddb",
   "metadata": {},
   "source": [
    "$\\nabla$ 对于不同维度的向量分别求偏导，$J(\\theta)$表示当年自动化控制的人做的一个损失函数"
   ]
  },
  {
   "cell_type": "markdown",
   "id": "9500abcf",
   "metadata": {},
   "source": [
    "$$\\nabla_{\\theta}J(\\theta) = \\begin{bmatrix}\n",
    "    \\frac{{\\alpha}J(\\theta)}{\\alpha\\theta_1} \\\\\n",
    "    \\frac{{\\alpha}J(\\theta)}{\\alpha\\theta_2} \\\\\n",
    "    ...\\\\\n",
    "    \\frac{{\\alpha}J(\\theta)}{\\alpha\\theta_n} \\\\\n",
    "\\end{bmatrix}$$"
   ]
  },
  {
   "cell_type": "markdown",
   "id": "fd4a4dd3",
   "metadata": {},
   "source": [
    "### 逻辑回归"
   ]
  },
  {
   "cell_type": "markdown",
   "id": "9bc71cf0",
   "metadata": {},
   "source": [
    "推荐系统：即是逻辑回归，输出的是一个实数，超过某个阈值就推，不超过某个阈值就不推。"
   ]
  },
  {
   "cell_type": "markdown",
   "id": "6ba1557d",
   "metadata": {},
   "source": [
    "## 面试题"
   ]
  },
  {
   "cell_type": "markdown",
   "id": "99028fd8",
   "metadata": {},
   "source": [
    "逻辑回归的损失函数交叉熵损失函数："
   ]
  },
  {
   "cell_type": "markdown",
   "id": "9dfcb4a7",
   "metadata": {},
   "source": [
    "$$J(\\theta) = -\\sum_{i}{(y^i\\log{h_\\theta{(x^i)}} + (1 - y^i)\\log{(1 - h_\\theta{(x^i)})})}$$"
   ]
  },
  {
   "cell_type": "markdown",
   "id": "dd65609c",
   "metadata": {},
   "source": [
    "if y = 1:$$Cost(h_\\theta{x}, Y(actual)) = -\\log{h_\\theta{(x)}}$$"
   ]
  },
  {
   "cell_type": "markdown",
   "id": "6159052c",
   "metadata": {},
   "source": [
    "if y = 0:$$Cost(h_\\theta{x}, Y(actual)) = -\\log{(1 - h_\\theta{(x)})}$$"
   ]
  },
  {
   "cell_type": "markdown",
   "id": "9fbeb613",
   "metadata": {},
   "source": [
    "类似于：$$y = \\frac{1}{1 - e^{-x}}$$"
   ]
  },
  {
   "cell_type": "markdown",
   "id": "2ea103e4",
   "metadata": {},
   "source": [
    "损失函数：loss、Cost、J"
   ]
  },
  {
   "cell_type": "markdown",
   "id": "efadad06",
   "metadata": {},
   "source": [
    "## Softmax & cross entropy"
   ]
  },
  {
   "cell_type": "markdown",
   "id": "996654a5",
   "metadata": {},
   "source": [
    "$$softmax(\\vec(x)) = \\frac{e^{x_i}}{\\sum{e^{x_j}}}$$"
   ]
  },
  {
   "cell_type": "markdown",
   "id": "a9e6926a",
   "metadata": {},
   "source": [
    "假设我们现在有一个向量，来描述某位同事的最近情况"
   ]
  },
  {
   "cell_type": "code",
   "execution_count": 6,
   "id": "8cb6c86b",
   "metadata": {},
   "outputs": [],
   "source": [
    "person1 = [8.5, 34, 123, 54]"
   ]
  },
  {
   "cell_type": "code",
   "execution_count": null,
   "id": "cf79b9ae",
   "metadata": {},
   "outputs": [],
   "source": [
    "心情 = ['开心', '难过', '平静', '惊喜', '迷离']"
   ]
  },
  {
   "cell_type": "code",
   "execution_count": 10,
   "id": "2532b7a7",
   "metadata": {},
   "outputs": [],
   "source": [
    "import numpy as np"
   ]
  },
  {
   "cell_type": "code",
   "execution_count": 19,
   "id": "55d165ea",
   "metadata": {},
   "outputs": [],
   "source": [
    "weights = np.random.randn(4, 5)"
   ]
  },
  {
   "cell_type": "markdown",
   "id": "ed39e5bc",
   "metadata": {},
   "source": [
    "## wx + b"
   ]
  },
  {
   "cell_type": "code",
   "execution_count": 20,
   "id": "c49a58b8",
   "metadata": {},
   "outputs": [],
   "source": [
    "bias = np.random.random()"
   ]
  },
  {
   "cell_type": "code",
   "execution_count": 25,
   "id": "aa9440e3",
   "metadata": {},
   "outputs": [],
   "source": [
    "logits = np.dot(person1, weights) + bias"
   ]
  },
  {
   "cell_type": "code",
   "execution_count": 27,
   "id": "b8e90e29",
   "metadata": {},
   "outputs": [
    {
     "data": {
      "text/plain": [
       "array([ -77.44093912,  263.3501152 ,  -97.3068292 ,  314.87639159,\n",
       "       -253.95141974])"
      ]
     },
     "execution_count": 27,
     "metadata": {},
     "output_type": "execute_result"
    }
   ],
   "source": [
    "logits"
   ]
  },
  {
   "cell_type": "code",
   "execution_count": 28,
   "id": "30d0003a",
   "metadata": {},
   "outputs": [],
   "source": [
    "def softmax(x):\n",
    "    x -= np.max(x)\n",
    "    return np.exp(x) / np.sum(np.exp(x))"
   ]
  },
  {
   "cell_type": "code",
   "execution_count": 29,
   "id": "f8899923",
   "metadata": {},
   "outputs": [
    {
     "data": {
      "text/plain": [
       "array([4.15669462e-171, 4.19201176e-023, 9.79719341e-180, 1.00000000e+000,\n",
       "       9.14577239e-248])"
      ]
     },
     "execution_count": 29,
     "metadata": {},
     "output_type": "execute_result"
    }
   ],
   "source": [
    "softmax(logits)"
   ]
  },
  {
   "cell_type": "markdown",
   "id": "cfcfaf44",
   "metadata": {},
   "source": [
    "## Cross-Entropy"
   ]
  },
  {
   "cell_type": "code",
   "execution_count": null,
   "id": "2d5f3218",
   "metadata": {},
   "outputs": [],
   "source": [
    "person1 = [85, 34, 34, 54]\n",
    "y_about_person = [0, 1, 0, 0, 0]"
   ]
  },
  {
   "cell_type": "code",
   "execution_count": 30,
   "id": "2cdbf02e",
   "metadata": {},
   "outputs": [
    {
     "data": {
      "text/plain": [
       "array([[-1.37226279, -0.76694237,  1.06200648,  1.49825513, -0.67909456],\n",
       "       [-1.36881314, -0.49455475,  1.55688801, -0.37777079,  1.22967736],\n",
       "       [ 0.50919354,  1.86225064, -1.08151389,  1.618931  , -1.87474601],\n",
       "       [-1.53294063,  1.05030052, -0.50282959,  2.12862938, -1.11676515]])"
      ]
     },
     "execution_count": 30,
     "metadata": {},
     "output_type": "execute_result"
    }
   ],
   "source": [
    "weights"
   ]
  },
  {
   "cell_type": "code",
   "execution_count": 31,
   "id": "786e8933",
   "metadata": {},
   "outputs": [
    {
     "data": {
      "text/plain": [
       "0.9109303046322875"
      ]
     },
     "execution_count": 31,
     "metadata": {},
     "output_type": "execute_result"
    }
   ],
   "source": [
    "bias"
   ]
  },
  {
   "cell_type": "markdown",
   "id": "dba2294b",
   "metadata": {},
   "source": [
    "## 交叉熵损失函数"
   ]
  },
  {
   "cell_type": "code",
   "execution_count": 1,
   "id": "b2622ba0",
   "metadata": {},
   "outputs": [],
   "source": [
    "import numpy as np\n",
    "\n",
    "def cross_entropy_loss(y_true, y_pred):\n",
    "    \"\"\"\n",
    "    计算二分类交叉熵损失函数\n",
    "    :param y_true: 真实标签，取值为 0 或 1\n",
    "    :param y_pred: 预测概率值，取值为 0-1 之间的实数\n",
    "    :return: 交叉熵损失函数值\n",
    "    \"\"\"\n",
    "    epsilon = 1e-15  # 避免出现 log(0) 的情况\n",
    "    y_pred = np.clip(y_pred, epsilon, 1 - epsilon)\n",
    "    loss = -(y_true * np.log(y_pred) + (1 - y_true) * np.log(1 - y_pred))\n",
    "    return np.mean(loss)"
   ]
  },
  {
   "cell_type": "code",
   "execution_count": 2,
   "id": "639794c9",
   "metadata": {},
   "outputs": [
    {
     "data": {
      "image/png": "[encoded data removed]",
      "text/plain": [
       "<Figure size 640x480 with 1 Axes>"
      ]
     },
     "metadata": {},
     "output_type": "display_data"
    }
   ],
   "source": [
    "import matplotlib.pyplot as plt\n",
    "\n",
    "y_true = 1\n",
    "y_pred = np.linspace(0.001, 0.999, 100)\n",
    "loss = [cross_entropy_loss(y_true, p) for p in y_pred]\n",
    "\n",
    "plt.plot(y_pred, loss)\n",
    "plt.xlabel('y_pred')\n",
    "plt.ylabel('Cross-entropy loss')\n",
    "plt.show()"
   ]
  },
  {
   "cell_type": "code",
   "execution_count": 3,
   "id": "a91af490",
   "metadata": {},
   "outputs": [],
   "source": [
    "import numpy as np\n",
    "\n",
    "def log_loss(y_true, y_pred, epsilon=1e-15):\n",
    "    \"\"\"\n",
    "    计算二分类对数损失函数\n",
    "    :param y_true: 真实标签，取值为 0 或 1\n",
    "    :param y_pred: 预测概率值，取值为 0-1 之间的实数\n",
    "    :param epsilon: 避免出现 log(0) 的情况\n",
    "    :return: 对数损失函数值\n",
    "    \"\"\"\n",
    "    y_pred = np.clip(y_pred, epsilon, 1 - epsilon)\n",
    "    loss = -(y_true * np.log(y_pred) + (1 - y_true) * np.log(1 - y_pred))\n",
    "    return np.mean(loss)"
   ]
  },
  {
   "cell_type": "code",
   "execution_count": 4,
   "id": "b97f4485",
   "metadata": {},
   "outputs": [
    {
     "data": {
      "image/png": "[encoded data removed]",
      "text/plain": [
       "<Figure size 640x480 with 1 Axes>"
      ]
     },
     "metadata": {},
     "output_type": "display_data"
    }
   ],
   "source": [
    "import matplotlib.pyplot as plt\n",
    "\n",
    "y_true = 1\n",
    "y_pred = np.linspace(0.001, 0.999, 100)\n",
    "loss = [log_loss(y_true, p) for p in y_pred]\n",
    "\n",
    "plt.plot(y_pred, loss)\n",
    "plt.xlabel('y_pred')\n",
    "plt.ylabel('Log loss')\n",
    "plt.show()"
   ]
  },
  {
   "cell_type": "code",
   "execution_count": 5,
   "id": "656eb3f6",
   "metadata": {},
   "outputs": [
    {
     "name": "stdout",
     "output_type": "stream",
     "text": [
      "AUC: 0.75\n"
     ]
    }
   ],
   "source": [
    "from sklearn.metrics import roc_auc_score\n",
    "\n",
    "y_true = [0, 0, 1, 1]\n",
    "y_scores = [0.1, 0.4, 0.35, 0.8]\n",
    "auc = roc_auc_score(y_true, y_scores)\n",
    "print(\"AUC:\", auc)"
   ]
  },
  {
   "cell_type": "code",
   "execution_count": null,
   "id": "d0b007be",
   "metadata": {},
   "outputs": [],
   "source": []
  }
 ],
 "metadata": {
  "kernelspec": {
   "display_name": "Python 3 (ipykernel)",
   "language": "python",
   "name": "python3"
  },
  "language_info": {
   "codemirror_mode": {
    "name": "ipython",
    "version": 3
   },
   "file_extension": ".py",
   "mimetype": "text/x-python",
   "name": "python",
   "nbconvert_exporter": "python",
   "pygments_lexer": "ipython3",
   "version": "3.10.9"
  }
 },
 "nbformat": 4,
 "nbformat_minor": 5
}
