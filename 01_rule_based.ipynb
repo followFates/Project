{
 "cells": [
  {
   "cell_type": "markdown",
   "id": "8ab4892c",
   "metadata": {},
   "source": [
    "## Lecture-01"
   ]
  },
  {
   "cell_type": "markdown",
   "id": "31f4ef07",
   "metadata": {},
   "source": [
    "## 古老的规则驱动的力量"
   ]
  },
  {
   "cell_type": "markdown",
   "id": "97da0870",
   "metadata": {},
   "source": [
    "## Problem: 我们希望让计算机自动的产生像人类说话的语言"
   ]
  },
  {
   "cell_type": "code",
   "execution_count": null,
   "id": "bebb801f",
   "metadata": {},
   "outputs": [],
   "source": [
    "import random"
   ]
  },
  {
   "cell_type": "code",
   "execution_count": 57,
   "id": "69249122",
   "metadata": {},
   "outputs": [],
   "source": [
    "rules = \"\"\"\n",
    "复合句子 = 句子 , 连词 复合句子|句子\n",
    "连词 = 而且|但是|不过\n",
    "句子 = 主语 谓语 宾语\n",
    "主语 = 你|我|他\n",
    "谓语 = 吃|玩     \n",
    "宾语 = 桃子|皮球|Xbox|面条\n",
    "\"\"\""
   ]
  },
  {
   "cell_type": "markdown",
   "id": "73d3078f",
   "metadata": {},
   "source": [
    "## Rule Parser Engine"
   ]
  },
  {
   "cell_type": "markdown",
   "id": "6aaeaf8b",
   "metadata": {},
   "source": [
    "编译原理衍生而来"
   ]
  },
  {
   "cell_type": "code",
   "execution_count": 58,
   "id": "b5448d0c",
   "metadata": {},
   "outputs": [],
   "source": [
    "grammer = {}\n",
    "\n",
    "for r in rules.split('\\n'):\n",
    "    if r.strip() == '': continue\n",
    "    #print(r)\n",
    "    \n",
    "    target, expand = r.split('=')\n",
    "    #print(target, expand)\n",
    "    \n",
    "    grammer[target.strip()] = [e.strip() for e in expand.split('|')]"
   ]
  },
  {
   "cell_type": "code",
   "execution_count": 59,
   "id": "fa66b1b8",
   "metadata": {},
   "outputs": [
    {
     "data": {
      "text/plain": [
       "{'复合句子': ['句子 , 连词 复合句子', '句子'],\n",
       " '连词': ['而且', '但是', '不过'],\n",
       " '句子': ['主语 谓语 宾语'],\n",
       " '主语': ['你', '我', '他'],\n",
       " '谓语': ['吃', '玩'],\n",
       " '宾语': ['桃子', '皮球', 'Xbox', '面条']}"
      ]
     },
     "execution_count": 59,
     "metadata": {},
     "output_type": "execute_result"
    }
   ],
   "source": [
    "grammer\n",
    "#可以输出结果中value值自动换行吗   "
   ]
  },
  {
   "cell_type": "code",
   "execution_count": 60,
   "id": "c4061437",
   "metadata": {},
   "outputs": [],
   "source": [
    "def generate(grammer, target='句子'):\n",
    "    if target not in grammer: return target\n",
    "    \n",
    "    return ''.join([generate(grammer, t) for t in random.choice(grammer[target]).split()])"
   ]
  },
  {
   "cell_type": "code",
   "execution_count": 61,
   "id": "19a9afa5",
   "metadata": {},
   "outputs": [
    {
     "data": {
      "text/plain": [
       "'我吃皮球'"
      ]
     },
     "execution_count": 61,
     "metadata": {},
     "output_type": "execute_result"
    }
   ],
   "source": [
    "generate(grammer)"
   ]
  },
  {
   "cell_type": "code",
   "execution_count": 76,
   "id": "8cbb43ef",
   "metadata": {},
   "outputs": [
    {
     "name": "stdout",
     "output_type": "stream",
     "text": [
      "我吃Xbox,但是他玩面条\n",
      "他玩Xbox,不过我吃桃子,而且他吃皮球,但是你吃面条\n",
      "你玩面条,但是你吃皮球,而且你吃面条,而且他吃Xbox\n",
      "你吃桃子,不过你吃Xbox,但是你玩Xbox,不过他玩桃子,不过他玩面条\n",
      "你吃皮球,不过他吃面条\n",
      "你吃面条,而且他吃Xbox,而且我玩桃子,不过他玩皮球\n",
      "你吃面条\n",
      "他玩Xbox\n",
      "我吃桃子,但是他吃Xbox,而且你玩皮球,但是他玩Xbox,而且我玩皮球\n",
      "我吃皮球,不过你吃桃子\n"
     ]
    }
   ],
   "source": [
    "for _ in range(10):\n",
    "    print(generate(grammer, target='复合句子'))"
   ]
  }
 ],
 "metadata": {
  "kernelspec": {
   "display_name": "Python 3 (ipykernel)",
   "language": "python",
   "name": "python3"
  },
  "language_info": {
   "codemirror_mode": {
    "name": "ipython",
    "version": 3
   },
   "file_extension": ".py",
   "mimetype": "text/x-python",
   "name": "python",
   "nbconvert_exporter": "python",
   "pygments_lexer": "ipython3",
   "version": "3.10.9"
  }
 },
 "nbformat": 4,
 "nbformat_minor": 5
}
