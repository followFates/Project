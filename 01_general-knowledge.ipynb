{
 "cells": [
  {
   "cell_type": "markdown",
   "id": "2fe7517f",
   "metadata": {},
   "source": [
    "## 简单的事情很复杂\n",
    "\n",
    "对于难的和中等很简单，可以用概率统计确定这句话出现的概率\n",
    "\n",
    "但是对于最简单的事情比如别人骂，人是可以很轻松确定，但是由于存在着很大的主观判断，所以机器很难判断\n",
    "\n",
    "或者让机器预测一个人会不会扇自己巴掌"
   ]
  },
  {
   "cell_type": "markdown",
   "id": "60d63f0f",
   "metadata": {},
   "source": [
    "## 方法论\n",
    "1.概率统计\n",
    "2.逻辑推理"
   ]
  },
  {
   "cell_type": "markdown",
   "id": "dddb2237",
   "metadata": {},
   "source": [
    "## 从问题范式上来讲\n",
    "\n",
    "Relax Based Models:比如确定屏幕上高速路上跑的是什么？可以很轻松确定是汽车；或者确定图片上是猫还是狗 (通过神经网络解决)\n",
    "\n",
    "State Based Models:比如正在下的象棋手执红棋一方，该走哪一步；（不是一眼就可以看出来了）\n",
    "     或者看中国地图判断齐齐哈尔到鄂尔多斯坐高铁应该怎么坐，直达还是转车好；\n",
    "\n",
    "Optimization Model   (有着强烈的限制，比如时间紧张的情况下该如何做计划，就是优化问题）\n",
    "    1.Dynamic Programming\n",
    "    2.Gradient Descent\n",
    "\n",
    "Logic Model (只有这个内卷不算太严重，没有商业落地，如果感兴趣的话可以研究这个方向)"
   ]
  },
  {
   "cell_type": "markdown",
   "id": "21f484ad",
   "metadata": {},
   "source": [
    "## 从研究对象来讲\n",
    "\n",
    "AI Agent：如何创建能够解决问题的AI方法与模型\n",
    "AI Tools：如何使用这些模型\n"
   ]
  },
  {
   "cell_type": "markdown",
   "id": "ba8e4021",
   "metadata": {},
   "source": [
    "IF 遇到相关的名词术语，方程，公式，代码看不懂\n",
    "NOT（放弃继续、立马问助教、怀疑自己）\n",
    "DO （首先查询维基百科、Bing等高质量的搜索引擎） github, stack overflow\n",
    "DO  (花费15分钟仍然不能找到答案，找助教帮忙）\n"
   ]
  },
  {
   "cell_type": "markdown",
   "id": "8a778269",
   "metadata": {},
   "source": [
    "IF 代码感到困难，做不出来\n",
    "NOT（放弃继续、立马问助教、怀疑自己）\n",
    "Do （想尽各种方法，查询高质量搜索引擎，Stack Overflow, Github)\n"
   ]
  },
  {
   "cell_type": "markdown",
   "id": "bb1e4ccd",
   "metadata": {},
   "source": [
    "IF 感到作业简单、任务过于简单\n",
    "NOT（觉得课程太简单，放弃学习）\n",
    "Do （私信寻求更具挑战性的内容）"
   ]
  },
  {
   "cell_type": "markdown",
   "id": "c8e85c8f",
   "metadata": {},
   "source": [
    "## 收获\n",
    "1.能力：常见的人工智能问题自己能够提出解决方案，并且代码实现\n",
    "2.潜力：新出现的人工智能模型能够理解，能够自学最新的模型与代码\n",
    "3.就业：符合年薪25万及以上公司的AI算法岗位的能力要求\n",
    "4.适应性：培养数字时代的智能能力，能够在这个世界中更加适应"
   ]
  },
  {
   "cell_type": "markdown",
   "id": "705a5a81",
   "metadata": {},
   "source": [
    "## 如何帮助自己更好的求职？\n",
    "Github\n",
    "LinkedIn\n",
    "自研项目"
   ]
  }
 ],
 "metadata": {
  "kernelspec": {
   "display_name": "Python 3 (ipykernel)",
   "language": "python",
   "name": "python3"
  },
  "language_info": {
   "codemirror_mode": {
    "name": "ipython",
    "version": 3
   },
   "file_extension": ".py",
   "mimetype": "text/x-python",
   "name": "python",
   "nbconvert_exporter": "python",
   "pygments_lexer": "ipython3",
   "version": "3.10.9"
  }
 },
 "nbformat": 4,
 "nbformat_minor": 5
}
