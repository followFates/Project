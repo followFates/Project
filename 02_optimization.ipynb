{
 "cells": [
  {
   "cell_type": "markdown",
   "id": "6c7b74ab",
   "metadata": {},
   "source": [
    "## Optimization Problem\n",
    "\n",
    "1.optimization problem\n",
    "\n",
    "2.dynamic programming (coding)\n",
    "\n",
    "3.gradient descent (coding)\n",
    "\n",
    "4.machine learning\n",
    "\n",
    "5.feature、model、predicate\n",
    "\n",
    "6.vector destance (coding)\n",
    "\n",
    "7.k-means 聚类 (coding)"
   ]
  },
  {
   "cell_type": "markdown",
   "id": "ee1ffe22",
   "metadata": {},
   "source": [
    "参考资料和书籍：http://github.com/computing-intelligence/references\n",
    "\n",
    "python学习视频：https://www.coursera.org/specializations/python\n",
    "\n",
    "python高级编程：https://www.udacity.com/course/design-of-computer-programs--cs212\n",
    "\n",
    "Computing Principles:https://www.coursera.org/learn/build-a-computer? AND https://www.coursera.org/learn/nand2tetris2\n",
    "\n",
    "Algorithm Design and Analysis: https://www.edx.org/course/algorithms-design-and-analysis\n"
   ]
  },
  {
   "cell_type": "markdown",
   "id": "6e1d2a59",
   "metadata": {},
   "source": [
    "## Lecture-02 Dynamic Programming to Machine learning\n",
    "\n",
    "## 动态规划\n"
   ]
  },
  {
   "cell_type": "code",
   "execution_count": 173,
   "id": "3182e81e",
   "metadata": {},
   "outputs": [
    {
     "data": {
      "text/plain": [
       "11"
      ]
     },
     "execution_count": 173,
     "metadata": {},
     "output_type": "execute_result"
    }
   ],
   "source": [
    "origianl_price = [1,5,8,9,10,17,17,20,24,30,33]#长度为1到11的价钱\n",
    "len(origianl_price)"
   ]
  },
  {
   "cell_type": "code",
   "execution_count": 118,
   "id": "acb64deb",
   "metadata": {},
   "outputs": [],
   "source": [
    "price = {i + 1:p for i, p in enumerate(origianl_price)} # list comprehension"
   ]
  },
  {
   "cell_type": "code",
   "execution_count": 119,
   "id": "94e855ec",
   "metadata": {},
   "outputs": [
    {
     "data": {
      "text/plain": [
       "20"
      ]
     },
     "execution_count": 119,
     "metadata": {},
     "output_type": "execute_result"
    }
   ],
   "source": [
    "price[8]"
   ]
  },
  {
   "cell_type": "code",
   "execution_count": 120,
   "id": "c4a0c510",
   "metadata": {},
   "outputs": [],
   "source": [
    "from collections import defaultdict"
   ]
  },
  {
   "cell_type": "code",
   "execution_count": 121,
   "id": "6deb686f",
   "metadata": {},
   "outputs": [],
   "source": [
    "price = defaultdict(int)"
   ]
  },
  {
   "cell_type": "code",
   "execution_count": 122,
   "id": "cf0560db",
   "metadata": {},
   "outputs": [],
   "source": [
    "for i,p in enumerate(origianl_price): \n",
    "    price[i + 1] = p"
   ]
  },
  {
   "cell_type": "code",
   "execution_count": 123,
   "id": "b9767b6c",
   "metadata": {},
   "outputs": [],
   "source": [
    "some_numbers = [(1,2), (2,1), (-1,0)]"
   ]
  },
  {
   "cell_type": "code",
   "execution_count": 124,
   "id": "75fe9d77",
   "metadata": {},
   "outputs": [
    {
     "data": {
      "text/plain": [
       "[(-1, 0), (1, 2), (2, 1)]"
      ]
     },
     "execution_count": 124,
     "metadata": {},
     "output_type": "execute_result"
    }
   ],
   "source": [
    "sorted(some_numbers, key=lambda x: x[0])"
   ]
  },
  {
   "cell_type": "code",
   "execution_count": 125,
   "id": "6730c0a4",
   "metadata": {},
   "outputs": [],
   "source": [
    "## decorator"
   ]
  },
  {
   "cell_type": "code",
   "execution_count": 126,
   "id": "0ec1dc26",
   "metadata": {},
   "outputs": [],
   "source": [
    "from datetime import datetime"
   ]
  },
  {
   "cell_type": "code",
   "execution_count": 127,
   "id": "a4db61fa",
   "metadata": {},
   "outputs": [
    {
     "data": {
      "text/plain": [
       "datetime.datetime(2023, 4, 26, 19, 48, 45, 411105)"
      ]
     },
     "execution_count": 127,
     "metadata": {},
     "output_type": "execute_result"
    }
   ],
   "source": [
    "datetime.now()"
   ]
  },
  {
   "cell_type": "code",
   "execution_count": 128,
   "id": "d35449a1",
   "metadata": {},
   "outputs": [],
   "source": [
    "import time "
   ]
  },
  {
   "cell_type": "code",
   "execution_count": 129,
   "id": "9da626a2",
   "metadata": {},
   "outputs": [],
   "source": [
    "@get_func_time\n",
    "def func_1(n):\n",
    "    #begin = datetime.now()\n",
    "    time.sleep(0.1)  # 假设这代表该方法中的一段执行程序，想获取它运行的时间，则如下计算\n",
    "    #print('used time = {}'.format(datetime.now() - begin))\n",
    "    return n"
   ]
  },
  {
   "cell_type": "code",
   "execution_count": 131,
   "id": "274c0538",
   "metadata": {},
   "outputs": [
    {
     "name": "stdout",
     "output_type": "stream",
     "text": [
      "used time = 0:00:00.104035\n"
     ]
    },
    {
     "data": {
      "text/plain": [
       "9"
      ]
     },
     "execution_count": 131,
     "metadata": {},
     "output_type": "execute_result"
    }
   ],
   "source": [
    "func_1(9)"
   ]
  },
  {
   "cell_type": "code",
   "execution_count": 132,
   "id": "9a5b9dc3",
   "metadata": {},
   "outputs": [],
   "source": [
    "def func_2(n):\n",
    "    #begin = datetime.now()\n",
    "    \n",
    "    sum_ = 0\n",
    "    for i in range(n ** n):\n",
    "        sum_ += 1\n",
    "    \n",
    "    #print('used time = {}'.format(datetime.now() - begin))\n",
    "    \n",
    "    return n"
   ]
  },
  {
   "cell_type": "markdown",
   "id": "00ace281",
   "metadata": {},
   "source": [
    "## Python 是一个可以面向函数编程的语言\n",
    "\n",
    "可以作为变量，可以作为返回值"
   ]
  },
  {
   "cell_type": "code",
   "execution_count": 133,
   "id": "9e60570d",
   "metadata": {},
   "outputs": [],
   "source": [
    "def get_func_time(func):\n",
    "    def _wrap(n):\n",
    "        begin = datetime.now()\n",
    "        result = func(n)\n",
    "        print('used time = {}'.format(datetime.now() - begin))\n",
    "        \n",
    "        return result\n",
    "    return _wrap"
   ]
  },
  {
   "cell_type": "code",
   "execution_count": 134,
   "id": "44d641a8",
   "metadata": {},
   "outputs": [
    {
     "data": {
      "text/plain": [
       "<function __main__.get_func_time.<locals>._wrap(n)>"
      ]
     },
     "execution_count": 134,
     "metadata": {},
     "output_type": "execute_result"
    }
   ],
   "source": [
    "func_1"
   ]
  },
  {
   "cell_type": "code",
   "execution_count": 135,
   "id": "a6da2145",
   "metadata": {},
   "outputs": [
    {
     "name": "stdout",
     "output_type": "stream",
     "text": [
      "used time = 0:00:00.105054\n"
     ]
    },
    {
     "data": {
      "text/plain": [
       "9"
      ]
     },
     "execution_count": 135,
     "metadata": {},
     "output_type": "execute_result"
    }
   ],
   "source": [
    "func_1(9)"
   ]
  },
  {
   "cell_type": "code",
   "execution_count": 136,
   "id": "36a40766",
   "metadata": {},
   "outputs": [],
   "source": [
    "another = func_1"
   ]
  },
  {
   "cell_type": "code",
   "execution_count": 137,
   "id": "d1d1dbdf",
   "metadata": {},
   "outputs": [
    {
     "name": "stdout",
     "output_type": "stream",
     "text": [
      "used time = 0:00:00.103650\n"
     ]
    },
    {
     "data": {
      "text/plain": [
       "9"
      ]
     },
     "execution_count": 137,
     "metadata": {},
     "output_type": "execute_result"
    }
   ],
   "source": [
    "another(9)"
   ]
  },
  {
   "cell_type": "code",
   "execution_count": 138,
   "id": "aa455304",
   "metadata": {},
   "outputs": [
    {
     "data": {
      "text/plain": [
       "'\\n@another_func\\ndef some_func():\\n    pass\\n    \\n=>some_func = another_func(some_func)\\n'"
      ]
     },
     "execution_count": 138,
     "metadata": {},
     "output_type": "execute_result"
    }
   ],
   "source": [
    "func_1_with_time = get_func_time(func_1)\n",
    "\n",
    "# 装饰器\n",
    "\n",
    "\"\"\"\n",
    "@another_func\n",
    "def some_func():\n",
    "    pass\n",
    "    \n",
    "=>some_func = another_func(some_func)\n",
    "\"\"\""
   ]
  },
  {
   "cell_type": "code",
   "execution_count": 139,
   "id": "aaeff505",
   "metadata": {},
   "outputs": [],
   "source": [
    "def memo(func):\n",
    "    cache = {}\n",
    "    \n",
    "    #def _wrap(*args, **kwargs):\n",
    "    def _wrap(n):\n",
    "        if n in cache:\n",
    "            result = cache[n]\n",
    "        \n",
    "        else:\n",
    "            result = func(n)\n",
    "            cache[n] = result\n",
    "        return result\n",
    "    return _wrap"
   ]
  },
  {
   "cell_type": "code",
   "execution_count": 140,
   "id": "9f2a8ea6",
   "metadata": {},
   "outputs": [
    {
     "data": {
      "text/plain": [
       "<function __main__.memo.<locals>._wrap(n)>"
      ]
     },
     "execution_count": 140,
     "metadata": {},
     "output_type": "execute_result"
    }
   ],
   "source": [
    "memo(9)"
   ]
  },
  {
   "cell_type": "code",
   "execution_count": 141,
   "id": "4ec2c879",
   "metadata": {},
   "outputs": [],
   "source": [
    "func_2_with_time = get_func_time(func_2)"
   ]
  },
  {
   "cell_type": "code",
   "execution_count": 142,
   "id": "65806167",
   "metadata": {},
   "outputs": [
    {
     "data": {
      "text/plain": [
       "<function __main__.get_func_time.<locals>._wrap(n)>"
      ]
     },
     "execution_count": 142,
     "metadata": {},
     "output_type": "execute_result"
    }
   ],
   "source": [
    "func_1_with_time"
   ]
  },
  {
   "cell_type": "code",
   "execution_count": 143,
   "id": "3737dcdd",
   "metadata": {},
   "outputs": [
    {
     "name": "stdout",
     "output_type": "stream",
     "text": [
      "used time = 0:00:00.100668\n",
      "used time = 0:00:00.100973\n"
     ]
    },
    {
     "data": {
      "text/plain": [
       "9"
      ]
     },
     "execution_count": 143,
     "metadata": {},
     "output_type": "execute_result"
    }
   ],
   "source": [
    "func_1_with_time(9)"
   ]
  },
  {
   "cell_type": "code",
   "execution_count": 144,
   "id": "8105e7c0",
   "metadata": {},
   "outputs": [
    {
     "name": "stdout",
     "output_type": "stream",
     "text": [
      "used time = 0:00:00.712211\n"
     ]
    },
    {
     "data": {
      "text/plain": [
       "8"
      ]
     },
     "execution_count": 144,
     "metadata": {},
     "output_type": "execute_result"
    }
   ],
   "source": [
    "func_2_with_time(8)"
   ]
  },
  {
   "cell_type": "code",
   "execution_count": 145,
   "id": "3b052029",
   "metadata": {},
   "outputs": [],
   "source": [
    "solution = {}\n",
    "\n",
    "@memo #机器\n",
    "def r(n): # the revenue of length n\n",
    "    #candidates = []\n",
    "    \n",
    "    #for i in range(1,n):\n",
    "    #    candidates.append((r(i) + r(n - i),i)) # i 的地方切割的价钱\n",
    "    \n",
    "    #candidates.append((price[n], 0)) # 0地方切割的价钱，比如n=3，price[n]=8,(8,0)表示一个向量\n",
    "    \n",
    "    #max_price, split_point = max(candidates, key=lambda x: x[0])\n",
    "    \n",
    "    #max([price[n], 0] + [(r(i) + r(n-i), i) for i in target])\n",
    "    max_price, split_point = max([(price[n], 0)] + [(r(i) + r(n - i), i) for i in \n",
    "                                    range(1, n)], key = lambda x:x[0])\n",
    "    \n",
    "    global solution\n",
    "    solution[n] = (split_point, n - split_point)\n",
    "    \n",
    "    return max_price"
   ]
  },
  {
   "cell_type": "code",
   "execution_count": 146,
   "id": "a12ecf59",
   "metadata": {},
   "outputs": [
    {
     "name": "stdout",
     "output_type": "stream",
     "text": [
      "CPU times: user 203 µs, sys: 20 µs, total: 223 µs\n",
      "Wall time: 230 µs\n"
     ]
    },
    {
     "data": {
      "text/plain": [
       "43"
      ]
     },
     "execution_count": 146,
     "metadata": {},
     "output_type": "execute_result"
    }
   ],
   "source": [
    "%%time  \n",
    "r(15)  # python in jupyter 's function"
   ]
  },
  {
   "cell_type": "code",
   "execution_count": 170,
   "id": "a35ed852",
   "metadata": {},
   "outputs": [],
   "source": [
    "def not_cut(n): return n == 0"
   ]
  },
  {
   "cell_type": "code",
   "execution_count": 167,
   "id": "4f94a534",
   "metadata": {},
   "outputs": [],
   "source": [
    "def parse_solution(target_length, revenue_solution):\n",
    "    left, right = revenue_solution[target_length]\n",
    "    \n",
    "    if not_cut(left): return [right]\n",
    "    \n",
    "    return parse_solution(left, revenue_solution) + parse_solution(right, revenue_solution)\n",
    "        "
   ]
  },
  {
   "cell_type": "markdown",
   "id": "621cd938",
   "metadata": {},
   "source": [
    "## Dynamic Programming"
   ]
  },
  {
   "cell_type": "code",
   "execution_count": 168,
   "id": "15c35d93",
   "metadata": {},
   "outputs": [
    {
     "data": {
      "text/plain": [
       "110"
      ]
     },
     "execution_count": 168,
     "metadata": {},
     "output_type": "execute_result"
    }
   ],
   "source": [
    "r(37)"
   ]
  },
  {
   "cell_type": "code",
   "execution_count": 162,
   "id": "a1ecf38f",
   "metadata": {},
   "outputs": [
    {
     "data": {
      "text/plain": [
       "(2, 13)"
      ]
     },
     "execution_count": 162,
     "metadata": {},
     "output_type": "execute_result"
    }
   ],
   "source": [
    "solution[15]"
   ]
  },
  {
   "cell_type": "code",
   "execution_count": 172,
   "id": "eb7aeda4",
   "metadata": {},
   "outputs": [
    {
     "data": {
      "text/plain": [
       "[6, 10, 10, 11]"
      ]
     },
     "execution_count": 172,
     "metadata": {},
     "output_type": "execute_result"
    }
   ],
   "source": [
    "parse_solution(37, solution)"
   ]
  },
  {
   "cell_type": "markdown",
   "id": "ba94c1ac",
   "metadata": {},
   "source": [
    "## 重复子模块问题\n",
    "\n",
    "把变量的值存入表中，需要的时候直接去表里查找，即 查表法 (dynamic programming)\n",
    "\n",
    "## 装饰器 decorator"
   ]
  },
  {
   "cell_type": "markdown",
   "id": "3a924da8",
   "metadata": {},
   "source": [
    "## 总结动态规划\n",
    "\n",
    "## 解决具备一定的限制条件的最优问题\n",
    "\n",
    "### 1.这个问题可以被分割成若干个字问题\n",
    "### 2.子问题之间存在着overlapping 重合 \n",
    "### 3.对重合的子问题进行cache（缓存）\n",
    "### 4.依据cache 数据加速解决问题\n",
    "### 5.还要构建parse solution 函数解析最终的结果\n",
    "\n",
    "1.Edit Distance 编辑距离\n",
    "\n",
    "2.基因测序里边的相似基因判断\n",
    "\n",
    "3.图形学里边的覆盖问题\n",
    "\n",
    "4.路径规划问题\n"
   ]
  },
  {
   "cell_type": "markdown",
   "id": "51142660",
   "metadata": {},
   "source": [
    "## Dynamic Programming\n",
    "\n",
    "#### 识别子问题 sub-problems dividing\n",
    "#### 识别子问题中的重叠特点 over-lapping sub-problem\n",
    "#### 存储子问题的答案 cache sub-solutions\n",
    "#### 合并问题答案 combine solutions\n",
    "#### 解析答案 parse solutions"
   ]
  },
  {
   "cell_type": "markdown",
   "id": "e1fd02ac",
   "metadata": {},
   "source": [
    "## IF Dynamic Programming is Very Difficult\n",
    "#### 1.限制条件极其多（上万个）\n",
    "#### 2.问题分解极其复杂（难以识别子问题）\n",
    "#### 3.子问题拆解极其复杂（时间复杂度太高）\n",
    "#### 怎么办？？？"
   ]
  },
  {
   "cell_type": "markdown",
   "id": "95b1712f",
   "metadata": {},
   "source": [
    "## 这时我们提出了机器学习！！！"
   ]
  },
  {
   "cell_type": "markdown",
   "id": "bee4b714",
   "metadata": {},
   "source": [
    "银行运钞车城市内各个网点取钱最短路径问题\n",
    "TSP 旅行商问题"
   ]
  },
  {
   "cell_type": "markdown",
   "id": "bf7c9aff",
   "metadata": {},
   "source": [
    "## Machine Learning"
   ]
  },
  {
   "cell_type": "markdown",
   "id": "54c7142b",
   "metadata": {},
   "source": [
    "采用向量来标记事物，物理形态转为数字态\n",
    "\n",
    "回归（Regression）：函数运行包含有一系列数值的向量比如如下的 $\\vec{man} 输出为某个确定的值，这种现象即为回归。\n",
    "《物理学的进化》（爱因斯坦）"
   ]
  },
  {
   "cell_type": "markdown",
   "id": "01c26a87",
   "metadata": {},
   "source": [
    "$\\vec{man}=(1.73,18000,1, 0010, 28)$"
   ]
  },
  {
   "cell_type": "markdown",
   "id": "3d90f973",
   "metadata": {},
   "source": [
    "$\\vec{man} ----------> 0.75&nbsp;&nbsp;&nbsp;&nbsp;&nbsp;&nbsp;&nbsp;&nbsp;&nbsp;&nbsp;&nbsp;&nbsp;&nbsp;&nbsp;&nbsp;&nbsp;&nbsp;&nbsp;&nbsp;&nbsp;&nbsp;&nbsp;&nbsp;&nbsp;&nbsp;&nbsp;&nbsp;&nbsp;&nbsp;&nbsp;&nbsp;&nbsp;&nbsp;&nbsp;&nbsp;&nbsp;&nbsp;&nbsp;&nbsp;&nbsp;&nbsp;&nbsp;Regression（回归）\n",
    "\n",
    "           ----->1/-1                 Binary Classsification（二分类）\n",
    "           \n",
    "           ----->(0.2,0.7,0.1)        Multiclass Classification（多分类）\n",
    "           \n",
    "           ----->action1,...,actionN  Sequence Learning（序列学习）\n",
    "           \n",
    "           ----->1 2 3 4 / 3 2 4 1    Rank（排序）"
   ]
  },
  {
   "cell_type": "markdown",
   "id": "a9539329",
   "metadata": {},
   "source": [
    "## Machine Learning is 人工+自动/半自动 ==> 函数f(x)"
   ]
  },
  {
   "cell_type": "markdown",
   "id": "2d655584",
   "metadata": {},
   "source": [
    "## example 监督学习"
   ]
  },
  {
   "cell_type": "markdown",
   "id": "76c73fe3",
   "metadata": {},
   "source": [
    "$\\vec{email}=(213,1,27,0,1)$"
   ]
  },
  {
   "cell_type": "markdown",
   "id": "259d98c5",
   "metadata": {},
   "source": [
    "Regression:比如说根据email向量做回归问题，判断这封邮件是真假的可能性，和我的相关程度\n",
    "\n",
    "Binary Classification:邮件是否是垃圾邮件\n",
    "\n",
    "Multiclass Classification:比如是假邮件，垃圾邮件，家庭邮件，工作邮件\n",
    "\n",
    "Sequence Learning:收到一封邮件，输出一段话\n",
    "\n",
    "Rank:将收到的邮件按照大小排序"
   ]
  },
  {
   "cell_type": "markdown",
   "id": "632714fa",
   "metadata": {},
   "source": [
    "## 非监督学习 （也称作聚类）"
   ]
  },
  {
   "cell_type": "markdown",
   "id": "99f9dda7",
   "metadata": {},
   "source": [
    "#### 对于所有的机器学习都可以归为如下流程"
   ]
  },
  {
   "cell_type": "markdown",
   "id": "7196113f",
   "metadata": {},
   "source": [
    "Observed Data --> Feature extractor --> vector --> learning --> f(x)\n",
    "\n",
    "利用 new data 进行特征提取x,代入f(x),得出y"
   ]
  },
  {
   "cell_type": "markdown",
   "id": "b316681f",
   "metadata": {},
   "source": [
    "区别：提供(x,y),f(x) 和 预测的 y 进行比较，这就是监督学习\n",
    "\n",
    "不提供预测的 y，就是非监督学习"
   ]
  },
  {
   "cell_type": "markdown",
   "id": "4e8188c1",
   "metadata": {},
   "source": [
    "损失函数loss：loss = ｜f(x) - y｜\n",
    "\n",
    "也就是实际值和预测值之间的差值\n",
    "\n",
    "梯度下降(Gradient Descent)：把监督式学习过程转变为输入x，loss函数最小，即实际f(x)与预测y无限接近，类似于二元一次函数中导数为0的点\n",
    "\n",
    "实际情况中机器学习也确实是常见的loss 函数都是凸函数（一些常见的凸函数包括线性函数、指数函数、对数函数、幂函数等）"
   ]
  },
  {
   "cell_type": "markdown",
   "id": "4cc7ad28",
   "metadata": {},
   "source": [
    "## Gradient Descent"
   ]
  },
  {
   "cell_type": "code",
   "execution_count": 298,
   "id": "6535f1e5",
   "metadata": {},
   "outputs": [],
   "source": [
    "import numpy as np"
   ]
  },
  {
   "cell_type": "code",
   "execution_count": 299,
   "id": "0dabbfdb",
   "metadata": {},
   "outputs": [],
   "source": [
    "def func(x):\n",
    "    return 10*x**2 + 37*x + 9"
   ]
  },
  {
   "cell_type": "code",
   "execution_count": 311,
   "id": "e8ca619d",
   "metadata": {},
   "outputs": [],
   "source": [
    "def gradient(x):\n",
    "    return 20*x + 37"
   ]
  },
  {
   "cell_type": "code",
   "execution_count": 312,
   "id": "85ea192b",
   "metadata": {},
   "outputs": [],
   "source": [
    "import matplotlib.pyplot as plt"
   ]
  },
  {
   "cell_type": "code",
   "execution_count": 313,
   "id": "c7087d39",
   "metadata": {},
   "outputs": [
    {
     "data": {
      "text/plain": [
       "[<matplotlib.lines.Line2D at 0x7fd5f83c56f0>]"
      ]
     },
     "execution_count": 313,
     "metadata": {},
     "output_type": "execute_result"
    },
    {
     "data": {
      "image/png": "[encoded data removed]",
      "text/plain": [
       "<Figure size 640x480 with 1 Axes>"
      ]
     },
     "metadata": {},
     "output_type": "display_data"
    }
   ],
   "source": [
    "x = np.linspace(-10, 10)\n",
    "plt.plot(x, func(x))"
   ]
  },
  {
   "cell_type": "code",
   "execution_count": 314,
   "id": "9aedcda9",
   "metadata": {},
   "outputs": [],
   "source": [
    "import random"
   ]
  },
  {
   "cell_type": "code",
   "execution_count": 315,
   "id": "7ebf032c",
   "metadata": {},
   "outputs": [],
   "source": [
    "steps = []\n",
    "\n",
    "x_optimal = random.choice(x)"
   ]
  },
  {
   "cell_type": "code",
   "execution_count": 316,
   "id": "054248be",
   "metadata": {},
   "outputs": [
    {
     "data": {
      "text/plain": [
       "-3.8775510204081627"
      ]
     },
     "execution_count": 316,
     "metadata": {},
     "output_type": "execute_result"
    }
   ],
   "source": [
    "x_optimal"
   ]
  },
  {
   "cell_type": "markdown",
   "id": "7b0147b6",
   "metadata": {},
   "source": [
    "$$x = x + (-1)*\\frac{\\partial{y}}{\\partial{x}}\\alpha$$"
   ]
  },
  {
   "cell_type": "code",
   "execution_count": 317,
   "id": "0909d62a",
   "metadata": {},
   "outputs": [],
   "source": [
    "alpha = 1e-4\n",
    "\n",
    "for i in range(200):\n",
    "    x_optimal = x_optimal + (-1)*gradient(x_optimal)*alpha\n",
    "    steps.append(x_optimal)"
   ]
  },
  {
   "cell_type": "code",
   "execution_count": 318,
   "id": "7aa9b744",
   "metadata": {},
   "outputs": [
    {
     "name": "stdout",
     "output_type": "stream",
     "text": [
      "-3.8734959183673463 15.720357316493107\n",
      "-3.8694489265306116 15.556739668656405\n",
      "-3.8654100286775503 15.39377583694042\n",
      "-3.8613792086201952 15.231463208696027\n",
      "-3.8573564502029547 15.069799181714075\n",
      "-3.8533417373025487 14.908781164183921\n",
      "-3.8493350538279434 14.748406574651852\n",
      "-3.8453363837202876 14.58867284197953\n",
      "-3.8413457109528473 14.429577405303007\n",
      "-3.8373630195309416 14.27111771399143\n",
      "-3.83338829349188 14.113291227606311\n",
      "-3.829421516904896 13.956095415860801\n",
      "-3.8254626738710864 13.799527758579018\n",
      "-3.8215117485233443 13.643585745655741\n",
      "-3.8175687250262977 13.488266877016088\n",
      "-3.8136335875762453 13.333568662575544\n",
      "-3.8097063204010926 13.179488622199898\n",
      "-3.8057869077602904 13.026024285665585\n",
      "-3.80187533394477 12.873173192620044\n",
      "-3.7979715832768806 12.72093289254235\n",
      "-3.794075640110327 12.56930094470377\n",
      "-3.790187488830106 12.41827491812873\n",
      "-3.786307113852446 12.267852391555891\n",
      "-3.782434499624741 12.118030953399227\n",
      "-3.7785696306254914 11.968808201709436\n",
      "-3.7747124913642405 11.820181744135397\n",
      "-3.770863066381512 11.67214919788583\n",
      "-3.767021340248749 11.524708189691097\n",
      "-3.763187297568251 11.377856355765061\n",
      "-3.759360922973115 11.231591341767455\n",
      "-3.7555422011271684 11.085910802765738\n",
      "-3.751731116724914 10.940812403197896\n",
      "-3.7479276544914644 10.79629381683472\n",
      "-3.7441317991824814 10.652352726742635\n",
      "-3.7403435355841164 10.50898682524658\n",
      "-3.736562848512948 10.366193813892892\n",
      "-3.732789722815922 10.223971403412577\n",
      "-3.72902414337029 10.082317313684541\n",
      "-3.7252660950835494 9.941229273699037\n",
      "-3.7215155628933823 9.80070502152131\n",
      "-3.7177725317675954 9.660742304255336\n",
      "-3.7140369867040604 9.521338878007526\n",
      "-3.7103089127306523 9.382492507850998\n",
      "-3.706588294905191 9.244200967789652\n",
      "-3.7028751183153807 9.106462040722391\n",
      "-3.69916936807875 8.969273518407647\n",
      "-3.6954710293425928 8.83263320142808\n",
      "-3.6917800872839077 8.6965388991552\n",
      "-3.68809652710934 8.560988429714172\n",
      "-3.684420334055121 8.425979619949004\n",
      "-3.6807514933870107 8.291510305387703\n",
      "-3.6770899904002365 8.157578330207343\n",
      "-3.673435810419436 8.024181547199845\n",
      "-3.669788938798597 7.891317817737246\n",
      "-3.666149360921 7.758985011737593\n",
      "-3.662517062199158 7.627181007630668\n",
      "-3.6588920280747597 7.495903692324163\n",
      "-3.65527424401861 7.365150961169661\n",
      "-3.651663695530573 7.234920717928816\n",
      "-3.648060368139512 7.105210874739981\n",
      "-3.6444642474032327 6.976019352084478\n",
      "-3.640875318908426 6.847344078753565\n",
      "-3.6372935682706093 6.7191829918148755\n",
      "-3.633718981134068 6.5915340365795885\n",
      "-3.6301515431718 6.464395166569403\n",
      "-3.6265912400854563 6.337764343483798\n",
      "-3.623038057605285 6.211639537167201\n",
      "-3.6194919814900746 6.086018725576679\n",
      "-3.6159529975270943 5.9608998947493035\n",
      "-3.61242109153204 5.836281038769869\n",
      "-3.608896249348976 5.712160159738943\n",
      "-3.605378456850278 5.588535267740639\n",
      "-3.6018676999365775 5.465404380810753\n",
      "-3.5983639645367043 5.342765524905019\n",
      "-3.5948672366076306 5.220616733867502\n",
      "-3.5913775021344154 5.098956049398936\n",
      "-3.5878947471301466 4.977781521025577\n",
      "-3.5844189576358865 4.857091206067537\n",
      "-3.580950119720615 4.736883169608092\n",
      "-3.5774882194811735 4.617155484462359\n",
      "-3.5740332430422113 4.497906231146459\n",
      "-3.570585176556127 4.37913349784678\n",
      "-3.567144006203015 4.260835380389381\n",
      "-3.563709718190609 4.14300998220935\n",
      "-3.560282298754228 4.025655414320468\n",
      "-3.5568617341567195 3.90876979528484\n",
      "-3.553448010688406 3.7923512511828648\n",
      "-3.5500411146670294 3.676397915583152\n",
      "-3.5466410324376954 3.5609079295124673\n",
      "-3.54324775037282 3.4458794414261575\n",
      "-3.5398612548720743 3.33131060717821\n",
      "-3.53648153236233 3.2171995899919352\n",
      "-3.5331085692976054 3.103544560430308\n",
      "-3.52974235215901 2.990343696366864\n",
      "-3.526382867454692 2.8775951829561563\n",
      "-3.5230301017197827 2.765297212605063\n",
      "-3.519684041516343 2.653447984943483\n",
      "-3.5163446734333106 2.542045706795662\n",
      "-3.513011984086444 2.431088592151312\n",
      "-3.5096859601182713 2.320574862137093\n",
      "-3.5063665881980346 2.210502744987963\n",
      "-3.5030538550216384 2.100870476018997\n",
      "-3.499747747311595 1.9916762975968112\n",
      "-3.4964482518169717 1.882918459111636\n",
      "-3.4931553553133377 1.7745952169490096\n",
      "-3.489869044602711 1.6667048344620667\n",
      "-3.4865893065135056 1.5592455819435713\n",
      "-3.4833161279004785 1.45221573659812\n",
      "-3.4800494956446775 1.3456135825146873\n",
      "-3.476789396653388 1.239437410638942\n",
      "-3.4735358178600815 1.1336855187460344\n",
      "-3.4702887462243615 1.02835621141314\n",
      "-3.4670481687319126 0.9234477999923172\n",
      "-3.463814072394449 0.8189586025835496\n",
      "-3.46058644424966 0.7148869440076311\n",
      "-3.4573652713611605 0.6112311557793646\n",
      "-3.4541505408184383 0.5079895760808881\n",
      "-3.4509422397368015 0.40516054973485893\n",
      "-3.447740355257328 0.3027424281781208\n",
      "-3.4445448745468132 0.20073356943512977\n",
      "-3.4413557847977194 0.099132338091664\n",
      "-3.438173073228124 -0.0020628947313667823\n",
      "-3.4349967270816677 -0.10285375140402664\n",
      "-3.4318267336275046 -0.20324184781340193\n",
      "-3.4286630801602493 -0.3032287933895361\n",
      "-3.425505753999929 -0.4028161911311514\n",
      "-3.422354742491929 -0.5020056376313988\n",
      "-3.4192100330069453 -0.6007987231034235\n",
      "-3.4160716129409314 -0.6991970314059017\n",
      "-3.4129394697150497 -0.7972021400683929\n",
      "-3.4098135907756197 -0.8948156203166775\n",
      "-3.4066939635940683 -0.9920390370978964\n",
      "-3.40358057566688 -1.088873949105647\n",
      "-3.4004734145155466 -1.1853219088050082\n",
      "-3.3973724676865156 -1.2813844624574244\n",
      "-3.3942777227511427 -1.3770631501454318\n",
      "-3.3911891673056402 -1.4723595057974848\n",
      "-3.388106788971029 -1.5672750572122993\n",
      "-3.385030575393087 -1.6618113260836935\n",
      "-3.3819605142423006 -1.7559698280246607\n",
      "-3.378896593213816 -1.849752072591869\n",
      "-3.3758388000273882 -1.9431595633097913\n",
      "-3.3727871224273334 -2.036193797694807\n",
      "-3.369741548182479 -2.128856267279218\n",
      "-3.366702065086114 -2.2211484576351808\n",
      "-3.3636686609559416 -2.313071848398465\n",
      "-3.3606413236340296 -2.4046279132922734\n",
      "-3.3576200409867614 -2.4958181201507728\n",
      "-3.354604800904788 -2.586643930942614\n",
      "-3.3515955913029782 -2.6771068017945936\n",
      "-3.3485924001203724 -2.767208183014617\n",
      "-3.345595215320132 -2.8569495191152896\n",
      "-3.3426040248894915 -2.946332248836896\n",
      "-3.3396188168397125 -3.035357805170534\n",
      "-3.3366395792060333 -3.124027615381081\n",
      "-3.333666300047621 -3.2123431010300294\n",
      "-3.3306989674475256 -3.3003056779983098\n",
      "-3.3277375695126303 -3.3879167565090285\n",
      "-3.3247820943736053 -3.47517774115002\n",
      "-3.321832530184858 -3.5620900308963996\n",
      "-3.3188888651244883 -3.6486550191329314\n",
      "-3.3159510873942395 -3.734874093676467\n",
      "-3.313019185219451 -3.820748636798143\n",
      "-3.3100931468490122 -3.9062800252454934\n",
      "-3.3071729605553144 -3.9914696302646036\n",
      "-3.304258614634204 -4.076318817622067\n",
      "-3.3013500974049355 -4.16082894762684\n",
      "-3.2984473972101256 -4.245001375152128\n",
      "-3.2955505024157055 -4.3288374496570015\n",
      "-3.292659401410874 -4.412338515208191\n",
      "-3.289774082608052 -4.495505910501407\n",
      "-3.286894534442836 -4.578340968883069\n",
      "-3.2840207453739505 -4.66084501837139\n",
      "-3.2811527038832025 -4.743019381677982\n",
      "-3.278290398475436 -4.824865376228814\n",
      "-3.275433817678485 -4.906384314185388\n",
      "-3.272582950043128 -4.987577502465911\n",
      "-3.2697377841430417 -5.068446242766058\n",
      "-3.266898308574756 -5.148991831579963\n",
      "-3.2640645119576064 -5.229215560220965\n",
      "-3.2612363829336912 -5.309118714842327\n",
      "-3.258413910167824 -5.388702576457803\n",
      "-3.2555970823474882 -5.467968420962279\n",
      "-3.2527858881827934 -5.546917519152103\n",
      "-3.2499803164064276 -5.625551136745585\n",
      "-3.2471803557736147 -5.703870534403137\n",
      "-3.2443859950620677 -5.781876967747664\n",
      "-3.2415972230719436 -5.859571687384545\n",
      "-3.2388140286257996 -5.93695593892177\n",
      "-3.236036400568548 -6.01403096298985\n",
      "-3.233264327767411 -6.090797995261738\n",
      "-3.2304977991118764 -6.167258266472643\n",
      "-3.2277368035136527 -6.243413002439837\n",
      "-3.2249813299066252 -6.319263424082081\n",
      "-3.222231367246812 -6.39481074743945\n",
      "-3.2194869045123182 -6.470056183692677\n",
      "-3.216747930703294 -6.545000939182643\n",
      "-3.214014434841887 -6.619646215429668\n",
      "-3.2112864059722033 -6.693993209152822\n",
      "-3.208563833160259 -6.768043112289035\n"
     ]
    }
   ],
   "source": [
    "for s in steps:\n",
    "    print(s, func(s))"
   ]
  },
  {
   "cell_type": "markdown",
   "id": "dbb49a9c",
   "metadata": {},
   "source": []
  }
 ],
 "metadata": {
  "kernelspec": {
   "display_name": "Python 3 (ipykernel)",
   "language": "python",
   "name": "python3"
  },
  "language_info": {
   "codemirror_mode": {
    "name": "ipython",
    "version": 3
   },
   "file_extension": ".py",
   "mimetype": "text/x-python",
   "name": "python",
   "nbconvert_exporter": "python",
   "pygments_lexer": "ipython3",
   "version": "3.10.9"
  }
 },
 "nbformat": 4,
 "nbformat_minor": 5
}
