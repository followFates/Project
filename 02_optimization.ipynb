{
 "cells": [
  {
   "cell_type": "markdown",
   "id": "6c7b74ab",
   "metadata": {},
   "source": [
    "## Optimization Problem\n",
    "\n",
    "1.optimization problem\n",
    "\n",
    "2.dynamic programming (coding)\n",
    "\n",
    "3.gradient descent (coding)\n",
    "\n",
    "4.machine learning\n",
    "\n",
    "5.feature、model、predicate\n",
    "\n",
    "6.vector destance (coding)\n",
    "\n",
    "7.k-means 聚类 (coding)"
   ]
  },
  {
   "cell_type": "markdown",
   "id": "ee1ffe22",
   "metadata": {},
   "source": [
    "参考资料和书籍：http://github.com/computing-intelligence/references\n",
    "\n",
    "python学习视频：https://www.coursera.org/specializations/python\n",
    "\n",
    "python高级编程：https://www.udacity.com/course/design-of-computer-programs--cs212\n",
    "\n",
    "Computing Principles:https://www.coursera.org/learn/build-a-computer? AND https://www.coursera.org/learn/nand2tetris2\n",
    "\n",
    "Algorithm Design and Analysis: https://www.edx.org/course/algorithms-design-and-analysis\n"
   ]
  },
  {
   "cell_type": "markdown",
   "id": "6e1d2a59",
   "metadata": {},
   "source": [
    "## Lecture-02 Dynamic Programming to Machine learning\n",
    "\n",
    "## 动态规划\n"
   ]
  },
  {
   "cell_type": "code",
   "execution_count": 173,
   "id": "3182e81e",
   "metadata": {},
   "outputs": [
    {
     "data": {
      "text/plain": [
       "11"
      ]
     },
     "execution_count": 173,
     "metadata": {},
     "output_type": "execute_result"
    }
   ],
   "source": [
    "origianl_price = [1,5,8,9,10,17,17,20,24,30,33]#长度为1到11的价钱\n",
    "len(origianl_price)"
   ]
  },
  {
   "cell_type": "code",
   "execution_count": 118,
   "id": "acb64deb",
   "metadata": {},
   "outputs": [],
   "source": [
    "price = {i + 1:p for i, p in enumerate(origianl_price)} # list comprehension"
   ]
  },
  {
   "cell_type": "code",
   "execution_count": 119,
   "id": "94e855ec",
   "metadata": {},
   "outputs": [
    {
     "data": {
      "text/plain": [
       "20"
      ]
     },
     "execution_count": 119,
     "metadata": {},
     "output_type": "execute_result"
    }
   ],
   "source": [
    "price[8]"
   ]
  },
  {
   "cell_type": "code",
   "execution_count": 120,
   "id": "c4a0c510",
   "metadata": {},
   "outputs": [],
   "source": [
    "from collections import defaultdict"
   ]
  },
  {
   "cell_type": "code",
   "execution_count": 121,
   "id": "6deb686f",
   "metadata": {},
   "outputs": [],
   "source": [
    "price = defaultdict(int)"
   ]
  },
  {
   "cell_type": "code",
   "execution_count": 122,
   "id": "cf0560db",
   "metadata": {},
   "outputs": [],
   "source": [
    "for i,p in enumerate(origianl_price): \n",
    "    price[i + 1] = p"
   ]
  },
  {
   "cell_type": "code",
   "execution_count": 123,
   "id": "b9767b6c",
   "metadata": {},
   "outputs": [],
   "source": [
    "some_numbers = [(1,2), (2,1), (-1,0)]"
   ]
  },
  {
   "cell_type": "code",
   "execution_count": 124,
   "id": "75fe9d77",
   "metadata": {},
   "outputs": [
    {
     "data": {
      "text/plain": [
       "[(-1, 0), (1, 2), (2, 1)]"
      ]
     },
     "execution_count": 124,
     "metadata": {},
     "output_type": "execute_result"
    }
   ],
   "source": [
    "sorted(some_numbers, key=lambda x: x[0])"
   ]
  },
  {
   "cell_type": "code",
   "execution_count": 125,
   "id": "6730c0a4",
   "metadata": {},
   "outputs": [],
   "source": [
    "## decorator"
   ]
  },
  {
   "cell_type": "code",
   "execution_count": 126,
   "id": "0ec1dc26",
   "metadata": {},
   "outputs": [],
   "source": [
    "from datetime import datetime"
   ]
  },
  {
   "cell_type": "code",
   "execution_count": 127,
   "id": "a4db61fa",
   "metadata": {},
   "outputs": [
    {
     "data": {
      "text/plain": [
       "datetime.datetime(2023, 4, 26, 19, 48, 45, 411105)"
      ]
     },
     "execution_count": 127,
     "metadata": {},
     "output_type": "execute_result"
    }
   ],
   "source": [
    "datetime.now()"
   ]
  },
  {
   "cell_type": "code",
   "execution_count": 128,
   "id": "d35449a1",
   "metadata": {},
   "outputs": [],
   "source": [
    "import time "
   ]
  },
  {
   "cell_type": "code",
   "execution_count": 129,
   "id": "9da626a2",
   "metadata": {},
   "outputs": [],
   "source": [
    "@get_func_time\n",
    "def func_1(n):\n",
    "    #begin = datetime.now()\n",
    "    time.sleep(0.1)  # 假设这代表该方法中的一段执行程序，想获取它运行的时间，则如下计算\n",
    "    #print('used time = {}'.format(datetime.now() - begin))\n",
    "    return n"
   ]
  },
  {
   "cell_type": "code",
   "execution_count": 131,
   "id": "274c0538",
   "metadata": {},
   "outputs": [
    {
     "name": "stdout",
     "output_type": "stream",
     "text": [
      "used time = 0:00:00.104035\n"
     ]
    },
    {
     "data": {
      "text/plain": [
       "9"
      ]
     },
     "execution_count": 131,
     "metadata": {},
     "output_type": "execute_result"
    }
   ],
   "source": [
    "func_1(9)"
   ]
  },
  {
   "cell_type": "code",
   "execution_count": 132,
   "id": "9a5b9dc3",
   "metadata": {},
   "outputs": [],
   "source": [
    "def func_2(n):\n",
    "    #begin = datetime.now()\n",
    "    \n",
    "    sum_ = 0\n",
    "    for i in range(n ** n):\n",
    "        sum_ += 1\n",
    "    \n",
    "    #print('used time = {}'.format(datetime.now() - begin))\n",
    "    \n",
    "    return n"
   ]
  },
  {
   "cell_type": "markdown",
   "id": "00ace281",
   "metadata": {},
   "source": [
    "## Python 是一个可以面向函数编程的语言\n",
    "\n",
    "可以作为变量，可以作为返回值"
   ]
  },
  {
   "cell_type": "code",
   "execution_count": 133,
   "id": "9e60570d",
   "metadata": {},
   "outputs": [],
   "source": [
    "def get_func_time(func):\n",
    "    def _wrap(n):\n",
    "        begin = datetime.now()\n",
    "        result = func(n)\n",
    "        print('used time = {}'.format(datetime.now() - begin))\n",
    "        \n",
    "        return result\n",
    "    return _wrap"
   ]
  },
  {
   "cell_type": "code",
   "execution_count": 134,
   "id": "44d641a8",
   "metadata": {},
   "outputs": [
    {
     "data": {
      "text/plain": [
       "<function __main__.get_func_time.<locals>._wrap(n)>"
      ]
     },
     "execution_count": 134,
     "metadata": {},
     "output_type": "execute_result"
    }
   ],
   "source": [
    "func_1"
   ]
  },
  {
   "cell_type": "code",
   "execution_count": 135,
   "id": "a6da2145",
   "metadata": {},
   "outputs": [
    {
     "name": "stdout",
     "output_type": "stream",
     "text": [
      "used time = 0:00:00.105054\n"
     ]
    },
    {
     "data": {
      "text/plain": [
       "9"
      ]
     },
     "execution_count": 135,
     "metadata": {},
     "output_type": "execute_result"
    }
   ],
   "source": [
    "func_1(9)"
   ]
  },
  {
   "cell_type": "code",
   "execution_count": 136,
   "id": "36a40766",
   "metadata": {},
   "outputs": [],
   "source": [
    "another = func_1"
   ]
  },
  {
   "cell_type": "code",
   "execution_count": 137,
   "id": "d1d1dbdf",
   "metadata": {},
   "outputs": [
    {
     "name": "stdout",
     "output_type": "stream",
     "text": [
      "used time = 0:00:00.103650\n"
     ]
    },
    {
     "data": {
      "text/plain": [
       "9"
      ]
     },
     "execution_count": 137,
     "metadata": {},
     "output_type": "execute_result"
    }
   ],
   "source": [
    "another(9)"
   ]
  },
  {
   "cell_type": "code",
   "execution_count": 138,
   "id": "aa455304",
   "metadata": {},
   "outputs": [
    {
     "data": {
      "text/plain": [
       "'\\n@another_func\\ndef some_func():\\n    pass\\n    \\n=>some_func = another_func(some_func)\\n'"
      ]
     },
     "execution_count": 138,
     "metadata": {},
     "output_type": "execute_result"
    }
   ],
   "source": [
    "func_1_with_time = get_func_time(func_1)\n",
    "\n",
    "# 装饰器\n",
    "\n",
    "\"\"\"\n",
    "@another_func\n",
    "def some_func():\n",
    "    pass\n",
    "    \n",
    "=>some_func = another_func(some_func)\n",
    "\"\"\""
   ]
  },
  {
   "cell_type": "code",
   "execution_count": 139,
   "id": "aaeff505",
   "metadata": {},
   "outputs": [],
   "source": [
    "def memo(func):\n",
    "    cache = {}\n",
    "    \n",
    "    #def _wrap(*args, **kwargs):\n",
    "    def _wrap(n):\n",
    "        if n in cache:\n",
    "            result = cache[n]\n",
    "        \n",
    "        else:\n",
    "            result = func(n)\n",
    "            cache[n] = result\n",
    "        return result\n",
    "    return _wrap"
   ]
  },
  {
   "cell_type": "code",
   "execution_count": 140,
   "id": "9f2a8ea6",
   "metadata": {},
   "outputs": [
    {
     "data": {
      "text/plain": [
       "<function __main__.memo.<locals>._wrap(n)>"
      ]
     },
     "execution_count": 140,
     "metadata": {},
     "output_type": "execute_result"
    }
   ],
   "source": [
    "memo(9)"
   ]
  },
  {
   "cell_type": "code",
   "execution_count": 141,
   "id": "4ec2c879",
   "metadata": {},
   "outputs": [],
   "source": [
    "func_2_with_time = get_func_time(func_2)"
   ]
  },
  {
   "cell_type": "code",
   "execution_count": 142,
   "id": "65806167",
   "metadata": {},
   "outputs": [
    {
     "data": {
      "text/plain": [
       "<function __main__.get_func_time.<locals>._wrap(n)>"
      ]
     },
     "execution_count": 142,
     "metadata": {},
     "output_type": "execute_result"
    }
   ],
   "source": [
    "func_1_with_time"
   ]
  },
  {
   "cell_type": "code",
   "execution_count": 143,
   "id": "3737dcdd",
   "metadata": {},
   "outputs": [
    {
     "name": "stdout",
     "output_type": "stream",
     "text": [
      "used time = 0:00:00.100668\n",
      "used time = 0:00:00.100973\n"
     ]
    },
    {
     "data": {
      "text/plain": [
       "9"
      ]
     },
     "execution_count": 143,
     "metadata": {},
     "output_type": "execute_result"
    }
   ],
   "source": [
    "func_1_with_time(9)"
   ]
  },
  {
   "cell_type": "code",
   "execution_count": 144,
   "id": "8105e7c0",
   "metadata": {},
   "outputs": [
    {
     "name": "stdout",
     "output_type": "stream",
     "text": [
      "used time = 0:00:00.712211\n"
     ]
    },
    {
     "data": {
      "text/plain": [
       "8"
      ]
     },
     "execution_count": 144,
     "metadata": {},
     "output_type": "execute_result"
    }
   ],
   "source": [
    "func_2_with_time(8)"
   ]
  },
  {
   "cell_type": "code",
   "execution_count": 145,
   "id": "3b052029",
   "metadata": {},
   "outputs": [],
   "source": [
    "solution = {}\n",
    "\n",
    "@memo #机器\n",
    "def r(n): # the revenue of length n\n",
    "    #candidates = []\n",
    "    \n",
    "    #for i in range(1,n):\n",
    "    #    candidates.append((r(i) + r(n - i),i)) # i 的地方切割的价钱\n",
    "    \n",
    "    #candidates.append((price[n], 0)) # 0地方切割的价钱，比如n=3，price[n]=8,(8,0)表示一个向量\n",
    "    \n",
    "    #max_price, split_point = max(candidates, key=lambda x: x[0])\n",
    "    \n",
    "    #max([price[n], 0] + [(r(i) + r(n-i), i) for i in target])\n",
    "    max_price, split_point = max([(price[n], 0)] + [(r(i) + r(n - i), i) for i in \n",
    "                                    range(1, n)], key = lambda x:x[0])\n",
    "    \n",
    "    global solution\n",
    "    solution[n] = (split_point, n - split_point)\n",
    "    \n",
    "    return max_price"
   ]
  },
  {
   "cell_type": "code",
   "execution_count": 146,
   "id": "a12ecf59",
   "metadata": {},
   "outputs": [
    {
     "name": "stdout",
     "output_type": "stream",
     "text": [
      "CPU times: user 203 µs, sys: 20 µs, total: 223 µs\n",
      "Wall time: 230 µs\n"
     ]
    },
    {
     "data": {
      "text/plain": [
       "43"
      ]
     },
     "execution_count": 146,
     "metadata": {},
     "output_type": "execute_result"
    }
   ],
   "source": [
    "%%time  \n",
    "r(15)  # python in jupyter 's function"
   ]
  },
  {
   "cell_type": "code",
   "execution_count": 170,
   "id": "a35ed852",
   "metadata": {},
   "outputs": [],
   "source": [
    "def not_cut(n): return n == 0"
   ]
  },
  {
   "cell_type": "code",
   "execution_count": 167,
   "id": "4f94a534",
   "metadata": {},
   "outputs": [],
   "source": [
    "def parse_solution(target_length, revenue_solution):\n",
    "    left, right = revenue_solution[target_length]\n",
    "    \n",
    "    if not_cut(left): return [right]\n",
    "    \n",
    "    return parse_solution(left, revenue_solution) + parse_solution(right, revenue_solution)\n",
    "        "
   ]
  },
  {
   "cell_type": "markdown",
   "id": "621cd938",
   "metadata": {},
   "source": [
    "## Dynamic Programming"
   ]
  },
  {
   "cell_type": "code",
   "execution_count": 168,
   "id": "15c35d93",
   "metadata": {},
   "outputs": [
    {
     "data": {
      "text/plain": [
       "110"
      ]
     },
     "execution_count": 168,
     "metadata": {},
     "output_type": "execute_result"
    }
   ],
   "source": [
    "r(37)"
   ]
  },
  {
   "cell_type": "code",
   "execution_count": 162,
   "id": "a1ecf38f",
   "metadata": {},
   "outputs": [
    {
     "data": {
      "text/plain": [
       "(2, 13)"
      ]
     },
     "execution_count": 162,
     "metadata": {},
     "output_type": "execute_result"
    }
   ],
   "source": [
    "solution[15]"
   ]
  },
  {
   "cell_type": "code",
   "execution_count": 172,
   "id": "eb7aeda4",
   "metadata": {},
   "outputs": [
    {
     "data": {
      "text/plain": [
       "[6, 10, 10, 11]"
      ]
     },
     "execution_count": 172,
     "metadata": {},
     "output_type": "execute_result"
    }
   ],
   "source": [
    "parse_solution(37, solution)"
   ]
  },
  {
   "cell_type": "markdown",
   "id": "ba94c1ac",
   "metadata": {},
   "source": [
    "## 重复子模块问题\n",
    "\n",
    "把变量的值存入表中，需要的时候直接去表里查找，即 查表法 (dynamic programming)\n",
    "\n",
    "## 装饰器 decorator"
   ]
  },
  {
   "cell_type": "markdown",
   "id": "3a924da8",
   "metadata": {},
   "source": [
    "## 总结动态规划\n",
    "\n",
    "## 解决具备一定的限制条件的最优问题\n",
    "\n",
    "### 1.这个问题可以被分割成若干个字问题\n",
    "### 2.子问题之间存在着overlapping 重合 \n",
    "### 3.对重合的子问题进行cache（缓存）\n",
    "### 4.依据cache 数据加速解决问题\n",
    "### 5.还要构建parse solution 函数解析最终的结果\n",
    "\n",
    "1.Edit Distance 编辑距离\n",
    "\n",
    "2.基因测序里边的相似基因判断\n",
    "\n",
    "3.图形学里边的覆盖问题\n",
    "\n",
    "4.路径规划问题\n"
   ]
  },
  {
   "cell_type": "markdown",
   "id": "51142660",
   "metadata": {},
   "source": [
    "## Dynamic Programming\n",
    "\n",
    "#### 识别子问题 sub-problems dividing\n",
    "#### 识别子问题中的重叠特点 over-lapping sub-problem\n",
    "#### 存储子问题的答案 cache sub-solutions\n",
    "#### 合并问题答案 combine solutions\n",
    "#### 解析答案 parse solutions"
   ]
  },
  {
   "cell_type": "markdown",
   "id": "e1fd02ac",
   "metadata": {},
   "source": [
    "## IF Dynamic Programming is Very Difficult\n",
    "#### 1.限制条件极其多（上万个）\n",
    "#### 2.问题分解极其复杂（难以识别子问题）\n",
    "#### 3.子问题拆解极其复杂（时间复杂度太高）\n",
    "#### 怎么办？？？"
   ]
  },
  {
   "cell_type": "markdown",
   "id": "95b1712f",
   "metadata": {},
   "source": [
    "## 这时我们提出了机器学习！！！"
   ]
  },
  {
   "cell_type": "markdown",
   "id": "bee4b714",
   "metadata": {},
   "source": [
    "银行运钞车城市内各个网点取钱最短路径问题\n",
    "TSP 旅行商问题"
   ]
  },
  {
   "cell_type": "markdown",
   "id": "bf7c9aff",
   "metadata": {},
   "source": [
    "## Machine Learning"
   ]
  },
  {
   "cell_type": "markdown",
   "id": "54c7142b",
   "metadata": {},
   "source": [
    "采用向量来标记事物，物理形态转为数字态\n",
    "\n",
    "回归（Regression）：函数运行包含有一系列数值的向量比如如下的 $\\vec{man} 输出为某个确定的值，这种现象即为回归。\n",
    "《物理学的进化》（爱因斯坦）"
   ]
  },
  {
   "cell_type": "markdown",
   "id": "01c26a87",
   "metadata": {},
   "source": [
    "$\\vec{man}=(1.73,18000,1, 0010, 28)$"
   ]
  },
  {
   "cell_type": "markdown",
   "id": "3d90f973",
   "metadata": {},
   "source": [
    "$\\vec{man} ----------> 0.75&nbsp;&nbsp;&nbsp;&nbsp;&nbsp;&nbsp;&nbsp;&nbsp;&nbsp;&nbsp;&nbsp;&nbsp;&nbsp;&nbsp;&nbsp;&nbsp;&nbsp;&nbsp;&nbsp;&nbsp;&nbsp;&nbsp;&nbsp;&nbsp;&nbsp;&nbsp;&nbsp;&nbsp;&nbsp;&nbsp;&nbsp;&nbsp;&nbsp;&nbsp;&nbsp;&nbsp;&nbsp;&nbsp;&nbsp;&nbsp;&nbsp;&nbsp;Regression（回归）\n",
    "\n",
    "           ----->1/-1                 Binary Classsification（二分类）\n",
    "           \n",
    "           ----->(0.2,0.7,0.1)        Multiclass Classification（多分类）\n",
    "           \n",
    "           ----->action1,...,actionN  Sequence Learning（序列学习）\n",
    "           \n",
    "           ----->1 2 3 4 / 3 2 4 1    Rank（排序）"
   ]
  },
  {
   "cell_type": "markdown",
   "id": "a9539329",
   "metadata": {},
   "source": [
    "## Machine Learning is 人工+自动/半自动 ==> 函数f(x)"
   ]
  },
  {
   "cell_type": "markdown",
   "id": "2d655584",
   "metadata": {},
   "source": [
    "## example 监督学习"
   ]
  },
  {
   "cell_type": "markdown",
   "id": "76c73fe3",
   "metadata": {},
   "source": [
    "$\\vec{email}=(213,1,27,0,1)$"
   ]
  },
  {
   "cell_type": "markdown",
   "id": "259d98c5",
   "metadata": {},
   "source": [
    "Regression:比如说根据email向量做回归问题，判断这封邮件是真假的可能性，和我的相关程度\n",
    "\n",
    "Binary Classification:邮件是否是垃圾邮件\n",
    "\n",
    "Multiclass Classification:比如是假邮件，垃圾邮件，家庭邮件，工作邮件\n",
    "\n",
    "Sequence Learning:收到一封邮件，输出一段话\n",
    "\n",
    "Rank:将收到的邮件按照大小排序"
   ]
  },
  {
   "cell_type": "markdown",
   "id": "632714fa",
   "metadata": {},
   "source": [
    "## 非监督学习 （也称作聚类）"
   ]
  },
  {
   "cell_type": "markdown",
   "id": "99f9dda7",
   "metadata": {},
   "source": [
    "#### 对于所有的机器学习都可以归为如下流程"
   ]
  },
  {
   "cell_type": "markdown",
   "id": "7196113f",
   "metadata": {},
   "source": [
    "Observed Data --> Feature extractor --> vector --> learning --> f(x)\n",
    "\n",
    "利用 new data 进行特征提取x,代入f(x),得出y"
   ]
  },
  {
   "cell_type": "markdown",
   "id": "b316681f",
   "metadata": {},
   "source": [
    "区别：提供(x,y),f(x) 和 预测的 y 进行比较，这就是监督学习\n",
    "\n",
    "不提供预测的 y，就是非监督学习"
   ]
  },
  {
   "cell_type": "markdown",
   "id": "4e8188c1",
   "metadata": {},
   "source": [
    "损失函数loss：loss = ｜f(x) - y｜\n",
    "\n",
    "也就是实际值和预测值之间的差值\n",
    "\n",
    "梯度下降(Gradient Descent)：把监督式学习过程转变为输入x，loss函数最小，即实际f(x)与预测y无限接近，类似于二元一次函数中导数为0的点\n",
    "\n",
    "实际情况中机器学习也确实是常见的loss 函数都是凸函数（一些常见的凸函数包括线性函数、指数函数、对数函数、幂函数等）"
   ]
  },
  {
   "cell_type": "markdown",
   "id": "4cc7ad28",
   "metadata": {},
   "source": [
    "## Gradient Descent"
   ]
  },
  {
   "cell_type": "code",
   "execution_count": 2,
   "id": "6535f1e5",
   "metadata": {},
   "outputs": [],
   "source": [
    "import numpy as np"
   ]
  },
  {
   "cell_type": "code",
   "execution_count": 3,
   "id": "0dabbfdb",
   "metadata": {},
   "outputs": [],
   "source": [
    "def func(x):\n",
    "    return 10*x**2 + 37*x + 9"
   ]
  },
  {
   "cell_type": "code",
   "execution_count": 4,
   "id": "e8ca619d",
   "metadata": {},
   "outputs": [],
   "source": [
    "def gradient(x):\n",
    "    return 20*x + 37"
   ]
  },
  {
   "cell_type": "code",
   "execution_count": 5,
   "id": "85ea192b",
   "metadata": {},
   "outputs": [],
   "source": [
    "import matplotlib.pyplot as plt"
   ]
  },
  {
   "cell_type": "code",
   "execution_count": 6,
   "id": "c7087d39",
   "metadata": {},
   "outputs": [
    {
     "data": {
      "text/plain": [
       "[<matplotlib.lines.Line2D at 0x7fdaaa55b730>]"
      ]
     },
     "execution_count": 6,
     "metadata": {},
     "output_type": "execute_result"
    },
    {
     "data": {
      "image/png": "[encoded data removed]",
      "text/plain": [
       "<Figure size 640x480 with 1 Axes>"
      ]
     },
     "metadata": {},
     "output_type": "display_data"
    }
   ],
   "source": [
    "x = np.linspace(-10, 10)\n",
    "plt.plot(x, func(x))"
   ]
  },
  {
   "cell_type": "code",
   "execution_count": 7,
   "id": "9aedcda9",
   "metadata": {},
   "outputs": [],
   "source": [
    "import random"
   ]
  },
  {
   "cell_type": "code",
   "execution_count": 8,
   "id": "7ebf032c",
   "metadata": {},
   "outputs": [],
   "source": [
    "steps = []\n",
    "\n",
    "x_optimal = random.choice(x)"
   ]
  },
  {
   "cell_type": "code",
   "execution_count": 9,
   "id": "054248be",
   "metadata": {},
   "outputs": [
    {
     "data": {
      "text/plain": [
       "-6.326530612244898"
      ]
     },
     "execution_count": 9,
     "metadata": {},
     "output_type": "execute_result"
    }
   ],
   "source": [
    "x_optimal"
   ]
  },
  {
   "cell_type": "markdown",
   "id": "7b0147b6",
   "metadata": {},
   "source": [
    "$$x = x + (-1)*\\frac{\\partial{y}}{\\partial{x}}\\alpha$$"
   ]
  },
  {
   "cell_type": "code",
   "execution_count": 10,
   "id": "0909d62a",
   "metadata": {},
   "outputs": [],
   "source": [
    "alpha = 1e-4\n",
    "\n",
    "for i in range(50):\n",
    "    x_optimal = x_optimal + (-1)*gradient(x_optimal)*alpha\n",
    "    steps.append(x_optimal)"
   ]
  },
  {
   "cell_type": "code",
   "execution_count": 11,
   "id": "7aa9b744",
   "metadata": {},
   "outputs": [
    {
     "name": "stdout",
     "output_type": "stream",
     "text": [
      "-6.317577551020409 174.36749174381518\n",
      "-6.308642395918368 173.56992014680688\n",
      "-6.2997251111265316 172.77553564590025\n",
      "-6.290825660904279 171.98432550545922\n",
      "-6.28194400958247 171.19627704073943\n",
      "-6.273080121563305 170.41137761768465\n",
      "-6.264233961320179 169.62961465272437\n",
      "-6.2554054933975385 168.8509756125721\n",
      "-6.246594682410743 168.0754480140242\n",
      "-6.237801493045922 167.3030194237602\n",
      "-6.229025890059829 166.5336774581428\n",
      "-6.220267838279709 165.7674097830201\n",
      "-6.21152730260315 165.0042041135271\n",
      "-6.2028042479979435 164.24404821388947\n",
      "-6.194098639501948 163.48692989722673\n",
      "-6.185410442222944 162.73283702535738\n",
      "-6.1767396213384975 161.98175750860406\n",
      "-6.16808614209582 161.2336793055996\n",
      "-6.159449969811629 160.48859042309445\n",
      "-6.150831069872005 159.74647891576382\n",
      "-6.142229407732261 159.00733288601634\n",
      "-6.133644948916796 158.27114048380383\n",
      "-6.125077659018962 157.53788990643054\n",
      "-6.116527503700924 156.80756939836442\n",
      "-6.107994448693522 156.0801672510485\n",
      "-6.099478459796135 155.3556718027133\n",
      "-6.090979502876543 154.63407143818966\n",
      "-6.08249754387079 153.9153545887227\n",
      "-6.074032548783048 153.19950973178615\n",
      "-6.065584483685482 152.4865253908979\n",
      "-6.057153314718112 151.77639013543597\n",
      "-6.048739008088675 151.0690925804547\n",
      "-6.040341530072498 150.3646213865032\n",
      "-6.0319608470123525 149.66296525944276\n",
      "-6.023596925318328 148.96411295026599\n",
      "-6.015249731467692 148.26805325491674\n",
      "-6.006919232004757 147.57477501411017\n",
      "-5.998605393540747 146.88426711315373\n",
      "-5.990308182753665 146.1965184817696\n",
      "-5.982027566388158 145.51151809391644\n",
      "-5.973763511255382 144.82925496761317\n",
      "-5.965515984232871 144.14971816476256\n",
      "-5.957284952264406 143.4728967909762\n",
      "-5.949070382359877 142.79877999539943\n",
      "-5.940872241595157 142.12735697053782\n",
      "-5.932690497111967 141.45861695208356\n",
      "-5.924525116117743 140.79254921874306\n",
      "-5.916376065885507 140.12914309206496\n",
      "-5.9082433137537365 139.46838793626904\n",
      "-5.900126827126229 138.81027315807572\n"
     ]
    }
   ],
   "source": [
    "for s in steps:\n",
    "    print(s, func(s))"
   ]
  },
  {
   "cell_type": "markdown",
   "id": "dbb49a9c",
   "metadata": {},
   "source": [
    "## 淘宝国际查抄违禁违法物品进行下架"
   ]
  },
  {
   "cell_type": "markdown",
   "id": "984d54e7",
   "metadata": {},
   "source": [
    "#### 将文本向量化"
   ]
  },
  {
   "cell_type": "markdown",
   "id": "9cda4a44",
   "metadata": {},
   "source": [
    "选取部分淘宝商品描述\n",
    "\n",
    "将文本向量化 (最简单的方式是 tf-idf) (原理：单词越稀有，频率越高）\n",
    "\n",
    "将文本进行聚类\n",
    "\n",
    "按照已知“暗语”定位商品类别\n",
    "\n",
    "获得该商品类别中词汇频率远高于正常词汇分布的单词"
   ]
  },
  {
   "cell_type": "markdown",
   "id": "34ba2891",
   "metadata": {},
   "source": [
    "## TF-IDF\n",
    "（Term Frequency-Inverse Document Frequency，词频-逆文档频率）"
   ]
  },
  {
   "cell_type": "markdown",
   "id": "15925541",
   "metadata": {},
   "source": [
    "一种常用于信息检索与文本挖掘的技术，用于评估一个词语对于一个文档集合中某个文档的重要程度。它的计算公式如下："
   ]
  },
  {
   "cell_type": "markdown",
   "id": "93593c49",
   "metadata": {},
   "source": [
    "tf - idf(t, d) = tf(t, d) * idf(t)"
   ]
  },
  {
   "cell_type": "markdown",
   "id": "ae11ef5c",
   "metadata": {},
   "source": [
    "词语t (team)在文档 d(doucument)中出现的次数，idf(t) 表示逆文档频率"
   ]
  },
  {
   "cell_type": "markdown",
   "id": "77c1bbbe",
   "metadata": {},
   "source": [
    "idf(t) = log(N/df(t))"
   ]
  },
  {
   "cell_type": "markdown",
   "id": "c24ae4f5",
   "metadata": {},
   "source": [
    "其中N 表示文档集合中文档的总数，df(t)表示包含词语t 的文档数。逆文档频率表示词语 t。"
   ]
  },
  {
   "cell_type": "markdown",
   "id": "f2164792",
   "metadata": {},
   "source": [
    "对于整个文档集合的重要程度，如果一个词语在很多文档中都出现，那么它的逆文档频率就会很低，反之则会很高。\n",
    "\n",
    "TF-IDF 的计算结果是一个数值，用于评估一个词语对于一个文档的重要程度。\n",
    "\n",
    "通常，我们可以将每个文档表示成一个向量，其中每个维度对应一个词语的 TF-IDF 值。\n",
    "\n",
    "这样，我们就可以使用向量空间模型（Vector Space Model）来评估文档之间的相似度，从而实现信息检索与文本分类等任务。\n"
   ]
  },
  {
   "cell_type": "markdown",
   "id": "ae015e53",
   "metadata": {},
   "source": [
    "## 非常重要的两个经验\n",
    "\n",
    "\n",
    "算法工程师最重要的不是记住了多少算法，而是能把实际问题抽象成算法问题，然后得到答案的能力\n",
    "\n",
    "机器学习方法很多时候是作为整个项目的一部分，单靠机器学习很难解决完整项目"
   ]
  },
  {
   "cell_type": "markdown",
   "id": "877fbbe6",
   "metadata": {},
   "source": [
    " "
   ]
  }
 ],
 "metadata": {
  "kernelspec": {
   "display_name": "Python 3 (ipykernel)",
   "language": "python",
   "name": "python3"
  },
  "language_info": {
   "codemirror_mode": {
    "name": "ipython",
    "version": 3
   },
   "file_extension": ".py",
   "mimetype": "text/x-python",
   "name": "python",
   "nbconvert_exporter": "python",
   "pygments_lexer": "ipython3",
   "version": "3.10.9"
  }
 },
 "nbformat": 4,
 "nbformat_minor": 5
}
